{
 "cells": [
  {
   "cell_type": "code",
   "execution_count": null,
   "metadata": {},
   "outputs": [],
   "source": [
    "import pandas as pd\n",
    "from faker import Faker"
   ]
  },
  {
   "cell_type": "code",
   "execution_count": null,
   "metadata": {},
   "outputs": [],
   "source": [
    "# Load the dataset with gender information\n",
    "df = pd.read_csv('data/application_record.csv')\n",
    "\n",
    "# Create an instance of the Faker class\n",
    "fake = Faker()\n",
    "\n",
    "# Generate names based on gender\n",
    "generated_names = []\n",
    "for _, row in df.iterrows():\n",
    "    gender = row[\"CODE_GENDER\"]\n",
    "    if gender == \"Male\":\n",
    "        name = fake.first_name_male()\n",
    "    elif gender == \"Female\":\n",
    "        name = fake.first_name_female()\n",
    "    else:\n",
    "        name = fake.first_name()\n",
    "    generated_names.append(name)\n",
    "\n",
    "# Add the generated names to the dataset\n",
    "df[\"generated_name\"] = generated_names\n",
    "\n",
    "# Save the updated dataset with generated names\n",
    "df.to_csv(\"updated_dataset.csv\", index=False)"
   ]
  }
 ],
 "metadata": {
  "kernelspec": {
   "display_name": ".venv",
   "language": "python",
   "name": "python3"
  },
  "language_info": {
   "name": "python",
   "version": "3.11.0"
  },
  "orig_nbformat": 4
 },
 "nbformat": 4,
 "nbformat_minor": 2
}
